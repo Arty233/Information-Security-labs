{
 "cells": [
  {
   "cell_type": "code",
   "execution_count": 3,
   "metadata": {},
   "outputs": [],
   "source": [
    "import numpy as np\n",
    "from sympy import Matrix"
   ]
  },
  {
   "cell_type": "code",
   "execution_count": 4,
   "metadata": {},
   "outputs": [],
   "source": [
    "alphabet = 'абвгдеёжзийклмнопрстуфхцчшщъыьэюя., ?'\n",
    "alphabet = list(alphabet)\n",
    "encodedAlphabet = np.arange(len(alphabet))"
   ]
  },
  {
   "cell_type": "markdown",
   "metadata": {},
   "source": [
    "## Шифрование"
   ]
  },
  {
   "cell_type": "code",
   "execution_count": 21,
   "metadata": {},
   "outputs": [
    {
     "name": "stdout",
     "output_type": "stream",
     "text": [
      "Введите кодовое слово: артём\n",
      "Длина кодового слова должна быть равна квадрату целого числа и не быть больше 25 символов\n",
      "Введите кодовое слово: лолб\n",
      "Введите сообщение, которое надо зашифровать: артём\n",
      "Зашифрованное сообщение: трдяфз\n"
     ]
    }
   ],
   "source": [
    "def decode(matrix):\n",
    "    text = ''\n",
    "    for i in matrix:\n",
    "        text += alphabet[i]\n",
    "    return text\n",
    "\n",
    "def encode(text):\n",
    "    text = list(text)\n",
    "    encodedText = []\n",
    "    for i in range(len(text)):\n",
    "        encodedText.append(alphabet.index(text[i]))\n",
    "    return encodedText\n",
    "\n",
    "def getKeyMatrix(keyWord):\n",
    "    keyWord = keyWord.lower()\n",
    "    keyVector = encode(keyWord)\n",
    "    keyMatrix = np.reshape(keyVector, (-1, int(np.sqrt(len(keyVector)))))\n",
    "    return keyMatrix\n",
    "\n",
    "while True:\n",
    "        keyWord = input(\"Введите кодовое слово: \")\n",
    "        if len(keyWord) not in [4, 9, 16, 25]:\n",
    "            print('Длина кодового слова должна быть равна квадрату целого числа и не быть больше 25 символов')\n",
    "        else:\n",
    "            break\n",
    "message = input(\"Введите сообщение, которое надо зашифровать: \")\n",
    "keyMatrix = getKeyMatrix(keyWord)\n",
    "encodedText = encode(message)\n",
    "blockSize = int(np.sqrt(len(encode(keyWord))))\n",
    "while(len(encodedText) % blockSize != 0):\n",
    "    encodedText.append(35) #символ пробела\n",
    "encodedText\n",
    "encodedTextMatr = np.reshape(encodedText,(len(encodedText) // blockSize,blockSize))\n",
    "encryptedText = ''\n",
    "for i in range(encodedTextMatr.shape[0]):\n",
    "    encryptedText += decode(encodedTextMatr[i].dot(keyMatrix) % len(alphabet))\n",
    "print('Зашифрованное сообщение:', encryptedText)"
   ]
  },
  {
   "cell_type": "markdown",
   "metadata": {},
   "source": [
    "## Дешифрование"
   ]
  },
  {
   "cell_type": "code",
   "execution_count": 22,
   "metadata": {},
   "outputs": [
    {
     "name": "stdout",
     "output_type": "stream",
     "text": [
      "Зашифрованное сообщение было:  артём\n"
     ]
    }
   ],
   "source": [
    "A = Matrix(keyMatrix) # обратная ключу-матрице матрица по модулю длины алфавита\n",
    "A = A.inv_mod(len(alphabet)) \n",
    "encodedEncryptedText = encode(encryptedText)\n",
    "while(len(encodedText) % blockSize != 0):\n",
    "    encodedText.append(35)\n",
    "encodedEncryptedTextMatr = np.reshape(encodedEncryptedText,(len(encodedEncryptedText) // blockSize,blockSize))\n",
    "decryptedText = ''\n",
    "for i in range(encodedEncryptedTextMatr.shape[0]):\n",
    "    decryptedText += (decode(encodedEncryptedTextMatr[i].dot(A) % len(alphabet)))\n",
    "print('Зашифрованное сообщение было: ', decryptedText.replace(alphabet[35], ''))"
   ]
  },
  {
   "cell_type": "code",
   "execution_count": null,
   "metadata": {},
   "outputs": [],
   "source": []
  }
 ],
 "metadata": {
  "kernelspec": {
   "display_name": "Python 3",
   "language": "python",
   "name": "python3"
  },
  "language_info": {
   "codemirror_mode": {
    "name": "ipython",
    "version": 3
   },
   "file_extension": ".py",
   "mimetype": "text/x-python",
   "name": "python",
   "nbconvert_exporter": "python",
   "pygments_lexer": "ipython3",
   "version": "3.7.3"
  }
 },
 "nbformat": 4,
 "nbformat_minor": 2
}
